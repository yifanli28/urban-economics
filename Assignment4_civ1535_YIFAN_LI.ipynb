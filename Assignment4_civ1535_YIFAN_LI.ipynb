{
  "nbformat": 4,
  "nbformat_minor": 0,
  "metadata": {
    "colab": {
      "name": "Assignment4 civ1535 YIFAN LI.ipynb",
      "provenance": [],
      "collapsed_sections": []
    },
    "kernelspec": {
      "name": "python3",
      "display_name": "Python 3"
    }
  },
  "cells": [
    {
      "cell_type": "markdown",
      "metadata": {
        "id": "w1IP__tCxj7k",
        "colab_type": "text"
      },
      "source": [
        "# CIV1535 assignment4: lowry model\n",
        "\n",
        "# name: YIFAN LI\n",
        "# number: 1006506997"
      ]
    },
    {
      "cell_type": "markdown",
      "metadata": {
        "id": "CVlnkpu6WJWF",
        "colab_type": "text"
      },
      "source": [
        "# Model preparation"
      ]
    },
    {
      "cell_type": "code",
      "metadata": {
        "id": "kskR6tp1Xjd8",
        "colab_type": "code",
        "colab": {}
      },
      "source": [
        "import numpy as np\n",
        "import pandas as pd\n",
        "import math"
      ],
      "execution_count": 0,
      "outputs": []
    },
    {
      "cell_type": "code",
      "metadata": {
        "id": "ZuPMTyvkcUdt",
        "colab_type": "code",
        "outputId": "6694eeae-0bca-47cd-ba5d-2add5a2d4e6a",
        "colab": {
          "base_uri": "https://localhost:8080/",
          "height": 306
        }
      },
      "source": [
        "location=[]\n",
        "distance=pd.DataFrame(columns=range(1,10),index=range(1,10))\n",
        "for i in range(1,4):\n",
        "  for j in range(1,4):\n",
        "    location.append([i,j])#generate the locations for 9 grids\n",
        "for i in range(1,10):\n",
        "  for j in range(1,10):\n",
        "    if i!=j:\n",
        "      distance[i][j]=(abs(location[i-1][0]-location[j-1][0])+abs(location[i-1][1]-location[j-1][1]))*5\n",
        "    else:\n",
        "      distance[i][j]=2.5 #calculate the distance between grids\n",
        "distance"
      ],
      "execution_count": 209,
      "outputs": [
        {
          "output_type": "execute_result",
          "data": {
            "text/html": [
              "<div>\n",
              "<style scoped>\n",
              "    .dataframe tbody tr th:only-of-type {\n",
              "        vertical-align: middle;\n",
              "    }\n",
              "\n",
              "    .dataframe tbody tr th {\n",
              "        vertical-align: top;\n",
              "    }\n",
              "\n",
              "    .dataframe thead th {\n",
              "        text-align: right;\n",
              "    }\n",
              "</style>\n",
              "<table border=\"1\" class=\"dataframe\">\n",
              "  <thead>\n",
              "    <tr style=\"text-align: right;\">\n",
              "      <th></th>\n",
              "      <th>1</th>\n",
              "      <th>2</th>\n",
              "      <th>3</th>\n",
              "      <th>4</th>\n",
              "      <th>5</th>\n",
              "      <th>6</th>\n",
              "      <th>7</th>\n",
              "      <th>8</th>\n",
              "      <th>9</th>\n",
              "    </tr>\n",
              "  </thead>\n",
              "  <tbody>\n",
              "    <tr>\n",
              "      <th>1</th>\n",
              "      <td>2.5</td>\n",
              "      <td>5</td>\n",
              "      <td>10</td>\n",
              "      <td>5</td>\n",
              "      <td>10</td>\n",
              "      <td>15</td>\n",
              "      <td>10</td>\n",
              "      <td>15</td>\n",
              "      <td>20</td>\n",
              "    </tr>\n",
              "    <tr>\n",
              "      <th>2</th>\n",
              "      <td>5</td>\n",
              "      <td>2.5</td>\n",
              "      <td>5</td>\n",
              "      <td>10</td>\n",
              "      <td>5</td>\n",
              "      <td>10</td>\n",
              "      <td>15</td>\n",
              "      <td>10</td>\n",
              "      <td>15</td>\n",
              "    </tr>\n",
              "    <tr>\n",
              "      <th>3</th>\n",
              "      <td>10</td>\n",
              "      <td>5</td>\n",
              "      <td>2.5</td>\n",
              "      <td>15</td>\n",
              "      <td>10</td>\n",
              "      <td>5</td>\n",
              "      <td>20</td>\n",
              "      <td>15</td>\n",
              "      <td>10</td>\n",
              "    </tr>\n",
              "    <tr>\n",
              "      <th>4</th>\n",
              "      <td>5</td>\n",
              "      <td>10</td>\n",
              "      <td>15</td>\n",
              "      <td>2.5</td>\n",
              "      <td>5</td>\n",
              "      <td>10</td>\n",
              "      <td>5</td>\n",
              "      <td>10</td>\n",
              "      <td>15</td>\n",
              "    </tr>\n",
              "    <tr>\n",
              "      <th>5</th>\n",
              "      <td>10</td>\n",
              "      <td>5</td>\n",
              "      <td>10</td>\n",
              "      <td>5</td>\n",
              "      <td>2.5</td>\n",
              "      <td>5</td>\n",
              "      <td>10</td>\n",
              "      <td>5</td>\n",
              "      <td>10</td>\n",
              "    </tr>\n",
              "    <tr>\n",
              "      <th>6</th>\n",
              "      <td>15</td>\n",
              "      <td>10</td>\n",
              "      <td>5</td>\n",
              "      <td>10</td>\n",
              "      <td>5</td>\n",
              "      <td>2.5</td>\n",
              "      <td>15</td>\n",
              "      <td>10</td>\n",
              "      <td>5</td>\n",
              "    </tr>\n",
              "    <tr>\n",
              "      <th>7</th>\n",
              "      <td>10</td>\n",
              "      <td>15</td>\n",
              "      <td>20</td>\n",
              "      <td>5</td>\n",
              "      <td>10</td>\n",
              "      <td>15</td>\n",
              "      <td>2.5</td>\n",
              "      <td>5</td>\n",
              "      <td>10</td>\n",
              "    </tr>\n",
              "    <tr>\n",
              "      <th>8</th>\n",
              "      <td>15</td>\n",
              "      <td>10</td>\n",
              "      <td>15</td>\n",
              "      <td>10</td>\n",
              "      <td>5</td>\n",
              "      <td>10</td>\n",
              "      <td>5</td>\n",
              "      <td>2.5</td>\n",
              "      <td>5</td>\n",
              "    </tr>\n",
              "    <tr>\n",
              "      <th>9</th>\n",
              "      <td>20</td>\n",
              "      <td>15</td>\n",
              "      <td>10</td>\n",
              "      <td>15</td>\n",
              "      <td>10</td>\n",
              "      <td>5</td>\n",
              "      <td>10</td>\n",
              "      <td>5</td>\n",
              "      <td>2.5</td>\n",
              "    </tr>\n",
              "  </tbody>\n",
              "</table>\n",
              "</div>"
            ],
            "text/plain": [
              "     1    2    3    4    5    6    7    8    9\n",
              "1  2.5    5   10    5   10   15   10   15   20\n",
              "2    5  2.5    5   10    5   10   15   10   15\n",
              "3   10    5  2.5   15   10    5   20   15   10\n",
              "4    5   10   15  2.5    5   10    5   10   15\n",
              "5   10    5   10    5  2.5    5   10    5   10\n",
              "6   15   10    5   10    5  2.5   15   10    5\n",
              "7   10   15   20    5   10   15  2.5    5   10\n",
              "8   15   10   15   10    5   10    5  2.5    5\n",
              "9   20   15   10   15   10    5   10    5  2.5"
            ]
          },
          "metadata": {
            "tags": []
          },
          "execution_count": 209
        }
      ]
    },
    {
      "cell_type": "code",
      "metadata": {
        "id": "3-Z6fBe-e4TJ",
        "colab_type": "code",
        "outputId": "ec5cd1b3-2773-41d9-ab47-95707b5d9f85",
        "colab": {
          "base_uri": "https://localhost:8080/",
          "height": 306
        }
      },
      "source": [
        "T=((distance/30)*60)**1.5 #transfer distance into impedance\n",
        "T"
      ],
      "execution_count": 210,
      "outputs": [
        {
          "output_type": "execute_result",
          "data": {
            "text/html": [
              "<div>\n",
              "<style scoped>\n",
              "    .dataframe tbody tr th:only-of-type {\n",
              "        vertical-align: middle;\n",
              "    }\n",
              "\n",
              "    .dataframe tbody tr th {\n",
              "        vertical-align: top;\n",
              "    }\n",
              "\n",
              "    .dataframe thead th {\n",
              "        text-align: right;\n",
              "    }\n",
              "</style>\n",
              "<table border=\"1\" class=\"dataframe\">\n",
              "  <thead>\n",
              "    <tr style=\"text-align: right;\">\n",
              "      <th></th>\n",
              "      <th>1</th>\n",
              "      <th>2</th>\n",
              "      <th>3</th>\n",
              "      <th>4</th>\n",
              "      <th>5</th>\n",
              "      <th>6</th>\n",
              "      <th>7</th>\n",
              "      <th>8</th>\n",
              "      <th>9</th>\n",
              "    </tr>\n",
              "  </thead>\n",
              "  <tbody>\n",
              "    <tr>\n",
              "      <th>1</th>\n",
              "      <td>11.1803</td>\n",
              "      <td>31.6228</td>\n",
              "      <td>89.4427</td>\n",
              "      <td>31.6228</td>\n",
              "      <td>89.4427</td>\n",
              "      <td>164.317</td>\n",
              "      <td>89.4427</td>\n",
              "      <td>164.317</td>\n",
              "      <td>252.982</td>\n",
              "    </tr>\n",
              "    <tr>\n",
              "      <th>2</th>\n",
              "      <td>31.6228</td>\n",
              "      <td>11.1803</td>\n",
              "      <td>31.6228</td>\n",
              "      <td>89.4427</td>\n",
              "      <td>31.6228</td>\n",
              "      <td>89.4427</td>\n",
              "      <td>164.317</td>\n",
              "      <td>89.4427</td>\n",
              "      <td>164.317</td>\n",
              "    </tr>\n",
              "    <tr>\n",
              "      <th>3</th>\n",
              "      <td>89.4427</td>\n",
              "      <td>31.6228</td>\n",
              "      <td>11.1803</td>\n",
              "      <td>164.317</td>\n",
              "      <td>89.4427</td>\n",
              "      <td>31.6228</td>\n",
              "      <td>252.982</td>\n",
              "      <td>164.317</td>\n",
              "      <td>89.4427</td>\n",
              "    </tr>\n",
              "    <tr>\n",
              "      <th>4</th>\n",
              "      <td>31.6228</td>\n",
              "      <td>89.4427</td>\n",
              "      <td>164.317</td>\n",
              "      <td>11.1803</td>\n",
              "      <td>31.6228</td>\n",
              "      <td>89.4427</td>\n",
              "      <td>31.6228</td>\n",
              "      <td>89.4427</td>\n",
              "      <td>164.317</td>\n",
              "    </tr>\n",
              "    <tr>\n",
              "      <th>5</th>\n",
              "      <td>89.4427</td>\n",
              "      <td>31.6228</td>\n",
              "      <td>89.4427</td>\n",
              "      <td>31.6228</td>\n",
              "      <td>11.1803</td>\n",
              "      <td>31.6228</td>\n",
              "      <td>89.4427</td>\n",
              "      <td>31.6228</td>\n",
              "      <td>89.4427</td>\n",
              "    </tr>\n",
              "    <tr>\n",
              "      <th>6</th>\n",
              "      <td>164.317</td>\n",
              "      <td>89.4427</td>\n",
              "      <td>31.6228</td>\n",
              "      <td>89.4427</td>\n",
              "      <td>31.6228</td>\n",
              "      <td>11.1803</td>\n",
              "      <td>164.317</td>\n",
              "      <td>89.4427</td>\n",
              "      <td>31.6228</td>\n",
              "    </tr>\n",
              "    <tr>\n",
              "      <th>7</th>\n",
              "      <td>89.4427</td>\n",
              "      <td>164.317</td>\n",
              "      <td>252.982</td>\n",
              "      <td>31.6228</td>\n",
              "      <td>89.4427</td>\n",
              "      <td>164.317</td>\n",
              "      <td>11.1803</td>\n",
              "      <td>31.6228</td>\n",
              "      <td>89.4427</td>\n",
              "    </tr>\n",
              "    <tr>\n",
              "      <th>8</th>\n",
              "      <td>164.317</td>\n",
              "      <td>89.4427</td>\n",
              "      <td>164.317</td>\n",
              "      <td>89.4427</td>\n",
              "      <td>31.6228</td>\n",
              "      <td>89.4427</td>\n",
              "      <td>31.6228</td>\n",
              "      <td>11.1803</td>\n",
              "      <td>31.6228</td>\n",
              "    </tr>\n",
              "    <tr>\n",
              "      <th>9</th>\n",
              "      <td>252.982</td>\n",
              "      <td>164.317</td>\n",
              "      <td>89.4427</td>\n",
              "      <td>164.317</td>\n",
              "      <td>89.4427</td>\n",
              "      <td>31.6228</td>\n",
              "      <td>89.4427</td>\n",
              "      <td>31.6228</td>\n",
              "      <td>11.1803</td>\n",
              "    </tr>\n",
              "  </tbody>\n",
              "</table>\n",
              "</div>"
            ],
            "text/plain": [
              "         1        2        3        4  ...        6        7        8        9\n",
              "1  11.1803  31.6228  89.4427  31.6228  ...  164.317  89.4427  164.317  252.982\n",
              "2  31.6228  11.1803  31.6228  89.4427  ...  89.4427  164.317  89.4427  164.317\n",
              "3  89.4427  31.6228  11.1803  164.317  ...  31.6228  252.982  164.317  89.4427\n",
              "4  31.6228  89.4427  164.317  11.1803  ...  89.4427  31.6228  89.4427  164.317\n",
              "5  89.4427  31.6228  89.4427  31.6228  ...  31.6228  89.4427  31.6228  89.4427\n",
              "6  164.317  89.4427  31.6228  89.4427  ...  11.1803  164.317  89.4427  31.6228\n",
              "7  89.4427  164.317  252.982  31.6228  ...  164.317  11.1803  31.6228  89.4427\n",
              "8  164.317  89.4427  164.317  89.4427  ...  89.4427  31.6228  11.1803  31.6228\n",
              "9  252.982  164.317  89.4427  164.317  ...  31.6228  89.4427  31.6228  11.1803\n",
              "\n",
              "[9 rows x 9 columns]"
            ]
          },
          "metadata": {
            "tags": []
          },
          "execution_count": 210
        }
      ]
    },
    {
      "cell_type": "code",
      "metadata": {
        "id": "LHMwsrqwBnKM",
        "colab_type": "code",
        "colab": {}
      },
      "source": [
        "Ejb=np.array([0,25000,0,0,0,0,0,25000,0])\n",
        "Aj=np.array([25,25,25,25,25,25,25,25,25])\n",
        "Ajb=np.array([0,6,0,0,0,0,0,6,0])\n",
        "ZjH=np.array([800,800,800,800,800,800,800,800,800])\n",
        "A=Aj-Ajb #Area for household and retail"
      ],
      "execution_count": 0,
      "outputs": []
    },
    {
      "cell_type": "code",
      "metadata": {
        "id": "6c2ChKOtHJoj",
        "colab_type": "code",
        "colab": {}
      },
      "source": [
        "def pop(Ej): #define the function to calculate population distribution basing on employment\n",
        "  N=sum(Ej)*1.1\n",
        "  n0=[]\n",
        "  for j in range(9):\n",
        "    temp1=0\n",
        "    for i in range(9):\n",
        "      temp1+=Ej[i]/T[i+1][j+1]\n",
        "    n0.append(temp1)\n",
        "  ns=sum(n0)\n",
        "  Nj=np.array(n0)*N/ns\n",
        "  return Nj\n",
        "\n"
      ],
      "execution_count": 0,
      "outputs": []
    },
    {
      "cell_type": "code",
      "metadata": {
        "id": "P0l0U88KS20I",
        "colab_type": "code",
        "colab": {}
      },
      "source": [
        "def emp(Nj):  #define the function to calculate employment distribution basing on population\n",
        "  Ek=Nj.sum()*np.array([0.2,0.15])\n",
        "  e0=[]\n",
        "  for j in range(9):\n",
        "    temp1=0\n",
        "    for i in range(9):\n",
        "      temp1+=0.2*Nj[i]/T[i+1][j+1]\n",
        "    e0.append(temp1)\n",
        "  es=sum(e0)\n",
        "  Ej1=Ek[0]*(np.array(e0)+0.1*Ejb)/(es+0.1*Ejb)\n",
        "  e0=[]\n",
        "  for j in range(9):\n",
        "    temp1=0\n",
        "    for i in range(9):\n",
        "      temp1+=0.15*Nj[i]/T[i+1][j+1]\n",
        "    e0.append(temp1)\n",
        "  es=sum(e0)\n",
        "  Ej2=Ek[1]*(np.array(e0)+0.05*Ejb)/(es+0.05*Ejb)\n",
        "  return Ej1,Ej2"
      ],
      "execution_count": 0,
      "outputs": []
    },
    {
      "cell_type": "markdown",
      "metadata": {
        "id": "A18vYUw-WOau",
        "colab_type": "text"
      },
      "source": [
        "# 1st iteration"
      ]
    },
    {
      "cell_type": "code",
      "metadata": {
        "id": "b7cHcp4xeMHn",
        "colab_type": "code",
        "outputId": "a585cb41-1b8e-4ef8-f20f-356e12233ddf",
        "colab": {
          "base_uri": "https://localhost:8080/",
          "height": 470
        }
      },
      "source": [
        "#Let's start 1st iteration!\n",
        "\n",
        "\n",
        "Nj1=pop(Ejb) #1st pop distribution\n",
        "AjH1=A  #in this time we do not have retail area\n",
        "print(\"Population distribution in 1 iter\")\n",
        "print(Nj1)\n",
        "print(\"compare the proportioned Nj with Nj(max)\")\n",
        "print(ZjH*AjH1-Nj1) #check household density\n",
        "\n",
        "\n",
        "Ejk1=emp(Nj1)# 1st retail employment distribution\n",
        "print(\"Retail employment distribution in 1 iter\")\n",
        "print(Ejk1)\n",
        "print(\"compare the proportioned Ejk with Zk\")\n",
        "print(Ejk1[0]-250,Ejk1[1]-350) #check minimum employment size\n",
        "\n",
        "\n",
        "Ej1=Ejk1[1]+Ejk1[0]+Ejb #in each grid there are employment from basic,retail1 and retail2\n",
        "print(\"the final over all employment: Ejb+Ejk1\")\n",
        "print(Ej1)\n",
        "print(\"compare the employment increment\")\n",
        "print(Ej1-Ejb)\n",
        "print(Ejb) #obviously, there is a huge change in this iter"
      ],
      "execution_count": 214,
      "outputs": [
        {
          "output_type": "stream",
          "text": [
            "Population distribution in 1 iter\n",
            "[ 4508.17073522 12029.77932815  4508.17073522  2673.28429514\n",
            "  7561.18981254  2673.28429514  4508.17073522 12029.77932815\n",
            "  4508.17073522]\n",
            "compare the proportioned Nj with Nj(max)\n",
            "[15491.82926478  3170.22067185 15491.82926478 17326.71570486\n",
            " 12438.81018746 17326.71570486 15491.82926478  3170.22067185\n",
            " 15491.82926478]\n",
            "Retail employment distribution in 1 iter\n",
            "(array([1031.09186696, 6343.15846742, 1031.09186696,  992.24891706,\n",
            "       1605.77935336,  992.24891706, 1031.09186696, 6343.15846742,\n",
            "       1031.09186696]), array([ 773.31890022, 4054.92975404,  773.31890022,  744.1866878 ,\n",
            "       1204.33451502,  744.1866878 ,  773.31890022, 4054.92975404,\n",
            "        773.31890022]))\n",
            "compare the proportioned Ejk with Zk\n",
            "[ 781.09186696 6093.15846742  781.09186696  742.24891706 1355.77935336\n",
            "  742.24891706  781.09186696 6093.15846742  781.09186696] [ 423.31890022 3704.92975404  423.31890022  394.1866878   854.33451502\n",
            "  394.1866878   423.31890022 3704.92975404  423.31890022]\n",
            "the final over all employment: Ejb+Ejk1\n",
            "[ 1804.41076718 35398.08822146  1804.41076718  1736.43560486\n",
            "  2810.11386837  1736.43560486  1804.41076718 35398.08822146\n",
            "  1804.41076718]\n",
            "compare the employment increment\n",
            "[ 1804.41076718 10398.08822146  1804.41076718  1736.43560486\n",
            "  2810.11386837  1736.43560486  1804.41076718 10398.08822146\n",
            "  1804.41076718]\n",
            "[    0 25000     0     0     0     0     0 25000     0]\n"
          ],
          "name": "stdout"
        }
      ]
    },
    {
      "cell_type": "markdown",
      "metadata": {
        "id": "XFc9q4_NWRvL",
        "colab_type": "text"
      },
      "source": [
        "# 2nd iteration"
      ]
    },
    {
      "cell_type": "code",
      "metadata": {
        "id": "WcYdBwe1o1y9",
        "colab_type": "code",
        "outputId": "deaef8ff-2137-4673-811c-6bdf8bece7ef",
        "colab": {
          "base_uri": "https://localhost:8080/",
          "height": 235
        }
      },
      "source": [
        "#Let's start 2nd iteration!\n",
        "Ajk1=[Ejk1[0]*0.0015,Ejk1[1]*0.0025]\n",
        "print(Ajk1) #make sure the area of k=2 larger than k=1\n",
        "AjH2=A-Ajk1[0]-Ajk1[1] #new household area in 2nd iter\n",
        "print(AjH2) # I found some retail area exceed the limit, so after adjustment, set Ah as 0\n",
        "AjH2[1]=0\n",
        "AjH2[7]=0\n",
        "\n",
        "Nj2=pop(Ej1) #2nd pop distribution\n",
        "print(\"Population distribution in 2 iter\")\n",
        "print(Nj2)\n",
        "print(\"compare the proportioned Nj with Nj(max)\")\n",
        "print(ZjH*AjH2) #check household density"
      ],
      "execution_count": 215,
      "outputs": [
        {
          "output_type": "stream",
          "text": [
            "[array([1.5466378 , 9.5147377 , 1.5466378 , 1.48837338, 2.40866903,\n",
            "       1.48837338, 1.5466378 , 9.5147377 , 1.5466378 ]), array([ 1.93329725, 10.13732439,  1.93329725,  1.86046672,  3.01083629,\n",
            "        1.86046672,  1.93329725, 10.13732439,  1.93329725])]\n",
            "[21.52006495 -0.65206209 21.52006495 21.6511599  19.58049468 21.6511599\n",
            " 21.52006495 -0.65206209 21.52006495]\n",
            "Population distribution in 2 iter\n",
            "[ 7891.69299236 18402.49548141  7891.69299236  5730.02699768\n",
            " 12894.66812107  5730.02699768  7891.69299236 18402.49548141\n",
            "  7891.69299236]\n",
            "compare the proportioned Nj with Nj(max)\n",
            "[17216.05195921     0.         17216.05195921 17320.92792394\n",
            " 15664.39574594 17320.92792394 17216.05195921     0.\n",
            " 17216.05195921]\n"
          ],
          "name": "stdout"
        }
      ]
    },
    {
      "cell_type": "code",
      "metadata": {
        "id": "Vs9YZotP9cLR",
        "colab_type": "code",
        "outputId": "8d3eb434-3864-41bc-9384-629227ba645d",
        "colab": {
          "base_uri": "https://localhost:8080/",
          "height": 420
        }
      },
      "source": [
        "Nj2[1]=0\n",
        "Nj2[7]=0 #since the household have no area, adjust Nj to 0.\n",
        "\n",
        "Ejk2=emp(Nj2)# 2nd retail employment distribution\n",
        "print(\"Retail employment distribution in 2 iter\")\n",
        "print(Ejk2)\n",
        "print(\"compare the proportioned Ejk with Zk\")\n",
        "print(Ejk2[0]-250,Ejk2[1]-350) #check minimum employment size\n",
        "\n",
        "Ej2=Ejk2[1]+Ejk2[0]+Ejb #in each grid there are employment from basic,retail1 and retail2\n",
        "print(\"the final over all employment: Ejb+Ejk1\")\n",
        "print(Ej2)\n",
        "print(\"compare the employment increment\")\n",
        "for i in range(9):\n",
        "  print((Ej2[i]-Ej1[i])/Ej1[i]) #obviously, there is still a large change in this iter"
      ],
      "execution_count": 216,
      "outputs": [
        {
          "output_type": "stream",
          "text": [
            "Retail employment distribution in 2 iter\n",
            "(array([1150.28163481, 6126.38488175, 1150.28163481, 1426.4000449 ,\n",
            "       1687.52441552, 1426.4000449 , 1150.28163481, 6126.38488175,\n",
            "       1150.28163481]), array([ 862.71122611, 3831.88303139,  862.71122611, 1069.80003367,\n",
            "       1265.64331164, 1069.80003367,  862.71122611, 3831.88303139,\n",
            "        862.71122611]))\n",
            "compare the proportioned Ejk with Zk\n",
            "[ 900.28163481 5876.38488175  900.28163481 1176.4000449  1437.52441552\n",
            " 1176.4000449   900.28163481 5876.38488175  900.28163481] [ 512.71122611 3481.88303139  512.71122611  719.80003367  915.64331164\n",
            "  719.80003367  512.71122611 3481.88303139  512.71122611]\n",
            "the final over all employment: Ejb+Ejk1\n",
            "[ 2012.99286092 34958.26791314  2012.99286092  2496.20007857\n",
            "  2953.16772717  2496.20007857  2012.99286092 34958.26791314\n",
            "  2012.99286092]\n",
            "compare the employment increment\n",
            "0.11559568228117606\n",
            "-0.012424973506275739\n",
            "0.1155956822811762\n",
            "0.4375425564832397\n",
            "0.050906783672805475\n",
            "0.43754255648323986\n",
            "0.11559568228117606\n",
            "-0.012424973506275739\n",
            "0.11559568228117634\n"
          ],
          "name": "stdout"
        }
      ]
    },
    {
      "cell_type": "markdown",
      "metadata": {
        "id": "gyEQ_dPGWUd0",
        "colab_type": "text"
      },
      "source": [
        "# 3rd iteration"
      ]
    },
    {
      "cell_type": "code",
      "metadata": {
        "id": "1UKqDTzKMcq4",
        "colab_type": "code",
        "outputId": "b6f2044b-427c-49bd-87f9-5c921780680e",
        "colab": {
          "base_uri": "https://localhost:8080/",
          "height": 235
        }
      },
      "source": [
        "#Let's start 3rd iteration!\n",
        "Ajk2=[Ejk2[0]*0.0015,Ejk2[1]*0.0025]\n",
        "print(Ajk2) #make sure the area of k=2 larger than k=1\n",
        "AjH3=A-Ajk2[0]-Ajk2[1] #new household area in 3rd iter\n",
        "print(AjH3) # area of household\n",
        "\n",
        "Nj3=pop(Ej2) #3rd pop distribution\n",
        "print(\"Population distribution in 3 iter\")\n",
        "print(Nj3)\n",
        "print(\"compare the proportioned Nj with Nj(max)\")\n",
        "print(ZjH*AjH3) #check household density"
      ],
      "execution_count": 217,
      "outputs": [
        {
          "output_type": "stream",
          "text": [
            "[array([1.72542245, 9.18957732, 1.72542245, 2.13960007, 2.53128662,\n",
            "       2.13960007, 1.72542245, 9.18957732, 1.72542245]), array([2.15677807, 9.57970758, 2.15677807, 2.67450008, 3.16410828,\n",
            "       2.67450008, 2.15677807, 9.57970758, 2.15677807])]\n",
            "[21.11779948  0.2307151  21.11779948 20.18589985 19.3046051  20.18589985\n",
            " 21.11779948  0.2307151  21.11779948]\n",
            "Population distribution in 3 iter\n",
            "[ 8080.36050457 18384.22397478  8080.36050457  6153.07133724\n",
            " 13109.45002739  6153.07133724  8080.36050457 18384.22397478\n",
            "  8080.36050457]\n",
            "compare the proportioned Nj with Nj(max)\n",
            "[16894.239586     184.57207912 16894.239586   16148.71987877\n",
            " 15443.68407809 16148.71987877 16894.239586     184.57207912\n",
            " 16894.239586  ]\n"
          ],
          "name": "stdout"
        }
      ]
    },
    {
      "cell_type": "code",
      "metadata": {
        "id": "bwsKaHWkQFeb",
        "colab_type": "code",
        "outputId": "34f59fc5-8e83-4342-eee1-5b84324ed4c7",
        "colab": {
          "base_uri": "https://localhost:8080/",
          "height": 420
        }
      },
      "source": [
        "Nj3[1]=184\n",
        "Nj3[7]=184 #adjust Nj to Nmax\n",
        "\n",
        "Ejk3=emp(Nj3)# 3rd retail employment distribution\n",
        "print(\"Retail employment distribution in 3 iter\")\n",
        "print(Ejk3)\n",
        "print(\"compare the proportioned Ejk with Zk\")\n",
        "print(Ejk3[0]-250,Ejk3[1]-350) #check minimum employment size\n",
        "\n",
        "Ej3=Ejk3[1]+Ejk3[0]+Ejb #in each grid there are employment from basic,retail1 and retail2\n",
        "print(\"the final over all employment: Ejb+Ejk1\")\n",
        "print(Ej3)\n",
        "print(\"compare the employment increment\")\n",
        "for i in range(9):\n",
        "  print((Ej3[i]-Ej2[i])/Ej2[i]) #still need iteration"
      ],
      "execution_count": 218,
      "outputs": [
        {
          "output_type": "stream",
          "text": [
            "Retail employment distribution in 3 iter\n",
            "(array([1192.43870673, 6265.61741416, 1192.43870673, 1487.03436212,\n",
            "       1746.56936526, 1487.03436212, 1192.43870673, 6265.61741416,\n",
            "       1192.43870673]), array([ 894.32903005, 3910.02531312,  894.32903005, 1115.27577159,\n",
            "       1309.92702394, 1115.27577159,  894.32903005, 3910.02531312,\n",
            "        894.32903005]))\n",
            "compare the proportioned Ejk with Zk\n",
            "[ 942.43870673 6015.61741416  942.43870673 1237.03436212 1496.56936526\n",
            " 1237.03436212  942.43870673 6015.61741416  942.43870673] [ 544.32903005 3560.02531312  544.32903005  765.27577159  959.92702394\n",
            "  765.27577159  544.32903005 3560.02531312  544.32903005]\n",
            "the final over all employment: Ejb+Ejk1\n",
            "[ 2086.76773678 35175.64272728  2086.76773678  2602.31013371\n",
            "  3056.4963892   2602.31013371  2086.76773678 35175.64272728\n",
            "  2086.76773678]\n",
            "compare the employment increment\n",
            "0.03664934798575133\n",
            "0.006218123125466921\n",
            "0.03664934798575133\n",
            "0.04250863384053754\n",
            "0.034989093605039254\n",
            "0.04250863384053754\n",
            "0.03664934798575133\n",
            "0.006218123125466921\n",
            "0.036649347985751556\n"
          ],
          "name": "stdout"
        }
      ]
    },
    {
      "cell_type": "markdown",
      "metadata": {
        "id": "bAhUFabrWab-",
        "colab_type": "text"
      },
      "source": [
        "# 4th iteration"
      ]
    },
    {
      "cell_type": "code",
      "metadata": {
        "id": "Us1tPMikSGrc",
        "colab_type": "code",
        "outputId": "8377bfb3-3de9-4718-8754-2df6b0d84f8f",
        "colab": {
          "base_uri": "https://localhost:8080/",
          "height": 235
        }
      },
      "source": [
        "#Let's start 4th iteration!\n",
        "Ajk3=[Ejk3[0]*0.0015,Ejk3[1]*0.0025]\n",
        "print(Ajk3) #make sure the area of k=2 larger than k=1\n",
        "AjH4=A-Ajk3[0]-Ajk3[1] #new household area in 4th iter\n",
        "print(AjH4) # I found some retail area exceed the limit, so after adjustment, set Ah as 0\n",
        "\n",
        "AjH4[1]=0\n",
        "AjH4[7]=0\n",
        "\n",
        "Nj4=pop(Ej3) #4th pop distribution\n",
        "print(\"Population distribution in 4 iter\")\n",
        "print(Nj4)\n",
        "print(\"compare the proportioned Nj with Nj(max)\")\n",
        "print(ZjH*AjH4) #check household density"
      ],
      "execution_count": 219,
      "outputs": [
        {
          "output_type": "stream",
          "text": [
            "[array([1.78865806, 9.39842612, 1.78865806, 2.23055154, 2.61985405,\n",
            "       2.23055154, 1.78865806, 9.39842612, 1.78865806]), array([2.23582258, 9.77506328, 2.23582258, 2.78818943, 3.27481756,\n",
            "       2.78818943, 2.23582258, 9.77506328, 2.23582258])]\n",
            "[20.97551936 -0.1734894  20.97551936 19.98125903 19.10532839 19.98125903\n",
            " 20.97551936 -0.1734894  20.97551936]\n",
            "Population distribution in 4 iter\n",
            "[ 8187.1595594  18546.63302828  8187.1595594   6271.46335229\n",
            " 13270.58936537  6271.46335229  8187.1595594  18546.63302828\n",
            "  8187.1595594 ]\n",
            "compare the proportioned Nj with Nj(max)\n",
            "[16780.41549183     0.         16780.41549183 15985.00722228\n",
            " 15284.2627138  15985.00722228 16780.41549183     0.\n",
            " 16780.41549183]\n"
          ],
          "name": "stdout"
        }
      ]
    },
    {
      "cell_type": "code",
      "metadata": {
        "id": "4y7T0pf4UAlm",
        "colab_type": "code",
        "outputId": "3de7cfe8-1567-400b-9e4c-01b8afb91b52",
        "colab": {
          "base_uri": "https://localhost:8080/",
          "height": 420
        }
      },
      "source": [
        "Nj4[1]=0\n",
        "Nj4[7]=0 #since the household have no area, adjust Nj to 0.\n",
        "\n",
        "Ejk4=emp(Nj4)# 4th retail employment distribution\n",
        "print(\"Retail employment distribution in 4 iter\")\n",
        "print(Ejk4)\n",
        "print(\"compare the proportioned Ejk with Zk\")\n",
        "print(Ejk4[0]-250,Ejk4[1]-350) #check minimum employment size\n",
        "\n",
        "Ej4=Ejk4[1]+Ejk4[0]+Ejb #in each grid there are employment from basic,retail1 and retail2\n",
        "print(\"the final over all employment: Ejb+Ejk1\")\n",
        "print(Ej4)\n",
        "print(\"compare the employment increment\")\n",
        "for i in range(9):\n",
        "  print((Ej4[i]-Ej3[i])/Ej3[i]) #obviously, there is still a large change in this iter"
      ],
      "execution_count": 220,
      "outputs": [
        {
          "output_type": "stream",
          "text": [
            "Retail employment distribution in 4 iter\n",
            "(array([1203.27116591, 6289.29830139, 1203.27116591, 1506.2952619 ,\n",
            "       1760.55459912, 1506.2952619 , 1203.27116591, 6289.29830139,\n",
            "       1203.27116591]), array([ 902.45337443, 3921.48922099,  902.45337443, 1129.72144643,\n",
            "       1320.41594934, 1129.72144643,  902.45337443, 3921.48922099,\n",
            "        902.45337443]))\n",
            "compare the proportioned Ejk with Zk\n",
            "[ 953.27116591 6039.29830139  953.27116591 1256.2952619  1510.55459912\n",
            " 1256.2952619   953.27116591 6039.29830139  953.27116591] [ 552.45337443 3571.48922099  552.45337443  779.72144643  970.41594934\n",
            "  779.72144643  552.45337443 3571.48922099  552.45337443]\n",
            "the final over all employment: Ejb+Ejk1\n",
            "[ 2105.72454034 35210.78752238  2105.72454034  2636.01670833\n",
            "  3080.97054845  2636.01670833  2105.72454034 35210.78752238\n",
            "  2105.72454034]\n",
            "compare the employment increment\n",
            "0.009084290133544443\n",
            "0.0009991230403757895\n",
            "0.009084290133544224\n",
            "0.012952558646897448\n",
            "0.00800725933711908\n",
            "0.012952558646897623\n",
            "0.009084290133544008\n",
            "0.0009991230403757895\n",
            "0.009084290133543787\n"
          ],
          "name": "stdout"
        }
      ]
    },
    {
      "cell_type": "markdown",
      "metadata": {
        "id": "00FJmLXhWeYC",
        "colab_type": "text"
      },
      "source": [
        "# 5th iteration"
      ]
    },
    {
      "cell_type": "code",
      "metadata": {
        "id": "D7GIEC_mWiP4",
        "colab_type": "code",
        "outputId": "830388ab-a8d3-4784-eeef-0b6ec7d67ab4",
        "colab": {
          "base_uri": "https://localhost:8080/",
          "height": 235
        }
      },
      "source": [
        "#Let's start 5th iteration!\n",
        "Ajk4=[Ejk4[0]*0.0015,Ejk4[1]*0.0025]\n",
        "print(Ajk4) #make sure the area of k=2 larger than k=1\n",
        "AjH5=A-Ajk4[0]-Ajk4[1] #new household area in 5th iter\n",
        "print(AjH5) # I found some retail area exceed the limit, so after adjustment, set Ah as 0\n",
        "\n",
        "AjH5[1]=0\n",
        "AjH5[7]=0\n",
        "\n",
        "Nj5=pop(Ej4) #5th pop distribution\n",
        "print(\"Population distribution in 5 iter\")\n",
        "print(Nj5)\n",
        "print(\"compare the proportioned Nj with Nj(max)\")\n",
        "print(ZjH*AjH5) #check household density"
      ],
      "execution_count": 221,
      "outputs": [
        {
          "output_type": "stream",
          "text": [
            "[array([1.80490675, 9.43394745, 1.80490675, 2.25944289, 2.6408319 ,\n",
            "       2.25944289, 1.80490675, 9.43394745, 1.80490675]), array([2.25613344, 9.80372305, 2.25613344, 2.82430362, 3.30103987,\n",
            "       2.82430362, 2.25613344, 9.80372305, 2.25613344])]\n",
            "[20.93895982 -0.2376705  20.93895982 19.91625349 19.05812823 19.91625349\n",
            " 20.93895982 -0.2376705  20.93895982]\n",
            "Population distribution in 5 iter\n",
            "[ 8211.94593184 18578.80838057  8211.94593184  6302.49733461\n",
            " 13306.82973063  6302.49733461  8211.94593184 18578.80838057\n",
            "  8211.94593184]\n",
            "compare the proportioned Nj with Nj(max)\n",
            "[16751.16785205     0.         16751.16785205 15933.00279286\n",
            " 15246.50258239 15933.00279286 16751.16785205     0.\n",
            " 16751.16785205]\n"
          ],
          "name": "stdout"
        }
      ]
    },
    {
      "cell_type": "code",
      "metadata": {
        "id": "Q1KwwGt5Xjf6",
        "colab_type": "code",
        "outputId": "e187be74-f032-4934-bd2f-6b626c604293",
        "colab": {
          "base_uri": "https://localhost:8080/",
          "height": 420
        }
      },
      "source": [
        "Nj5[1]=0\n",
        "Nj5[7]=0 #since the household have no area, adjust Nj to 0.\n",
        "\n",
        "Ejk5=emp(Nj5)# 5th retail employment distribution\n",
        "print(\"Retail employment distribution in 4 iter\")\n",
        "print(Ejk5)\n",
        "print(\"compare the proportioned Ejk with Zk\")\n",
        "print(Ejk5[0]-250,Ejk5[1]-350) #check minimum employment size\n",
        "\n",
        "Ej5=Ejk5[1]+Ejk5[0]+Ejb #in each grid there are employment from basic,retail1 and retail2\n",
        "print(\"the final over all employment: Ejb+Ejk1\")\n",
        "print(Ej5)\n",
        "print(\"compare the employment increment\")\n",
        "for i in range(9):\n",
        "  print((Ej5[i]-Ej4[i])/Ej4[i]) #converge to 0.5%"
      ],
      "execution_count": 222,
      "outputs": [
        {
          "output_type": "stream",
          "text": [
            "Retail employment distribution in 4 iter\n",
            "(array([1207.27973333, 6301.38295852, 1207.27973333, 1511.83177481,\n",
            "       1766.24776974, 1511.83177481, 1207.27973333, 6301.38295852,\n",
            "       1207.27973333]), array([ 905.4598    , 3928.17249994,  905.4598    , 1133.87383111,\n",
            "       1324.6858273 , 1133.87383111,  905.4598    , 3928.17249994,\n",
            "        905.4598    ]))\n",
            "compare the proportioned Ejk with Zk\n",
            "[ 957.27973333 6051.38295852  957.27973333 1261.83177481 1516.24776974\n",
            " 1261.83177481  957.27973333 6051.38295852  957.27973333] [ 555.4598     3578.17249994  555.4598      783.87383111  974.6858273\n",
            "  783.87383111  555.4598     3578.17249994  555.4598    ]\n",
            "the final over all employment: Ejb+Ejk1\n",
            "[ 2112.73953333 35229.55545846  2112.73953333  2645.70560592\n",
            "  3090.93359704  2645.70560592  2112.73953333 35229.55545846\n",
            "  2112.73953333]\n",
            "compare the employment increment\n",
            "0.003331391573133444\n",
            "0.0005330166519194001\n",
            "0.0033313915731336607\n",
            "0.0036755827701001123\n",
            "0.0032337370430214297\n",
            "0.0036755827700997667\n",
            "0.003331391573133877\n",
            "0.0005330166519194001\n",
            "0.003331391573133877\n"
          ],
          "name": "stdout"
        }
      ]
    },
    {
      "cell_type": "markdown",
      "metadata": {
        "id": "z-BPyhgBg_iY",
        "colab_type": "text"
      },
      "source": [
        "# Return the model with the impedance function parameter set equal to 1.00"
      ]
    },
    {
      "cell_type": "code",
      "metadata": {
        "id": "XKx2bcL0hGU-",
        "colab_type": "code",
        "outputId": "7eedbf11-d4ba-4efd-8f46-fa0eeacf67f2",
        "colab": {
          "base_uri": "https://localhost:8080/",
          "height": 306
        }
      },
      "source": [
        "T=((distance/30)*60)**1 #transfer distance into new impedance\n",
        "T"
      ],
      "execution_count": 223,
      "outputs": [
        {
          "output_type": "execute_result",
          "data": {
            "text/html": [
              "<div>\n",
              "<style scoped>\n",
              "    .dataframe tbody tr th:only-of-type {\n",
              "        vertical-align: middle;\n",
              "    }\n",
              "\n",
              "    .dataframe tbody tr th {\n",
              "        vertical-align: top;\n",
              "    }\n",
              "\n",
              "    .dataframe thead th {\n",
              "        text-align: right;\n",
              "    }\n",
              "</style>\n",
              "<table border=\"1\" class=\"dataframe\">\n",
              "  <thead>\n",
              "    <tr style=\"text-align: right;\">\n",
              "      <th></th>\n",
              "      <th>1</th>\n",
              "      <th>2</th>\n",
              "      <th>3</th>\n",
              "      <th>4</th>\n",
              "      <th>5</th>\n",
              "      <th>6</th>\n",
              "      <th>7</th>\n",
              "      <th>8</th>\n",
              "      <th>9</th>\n",
              "    </tr>\n",
              "  </thead>\n",
              "  <tbody>\n",
              "    <tr>\n",
              "      <th>1</th>\n",
              "      <td>5</td>\n",
              "      <td>10</td>\n",
              "      <td>20</td>\n",
              "      <td>10</td>\n",
              "      <td>20</td>\n",
              "      <td>30</td>\n",
              "      <td>20</td>\n",
              "      <td>30</td>\n",
              "      <td>40</td>\n",
              "    </tr>\n",
              "    <tr>\n",
              "      <th>2</th>\n",
              "      <td>10</td>\n",
              "      <td>5</td>\n",
              "      <td>10</td>\n",
              "      <td>20</td>\n",
              "      <td>10</td>\n",
              "      <td>20</td>\n",
              "      <td>30</td>\n",
              "      <td>20</td>\n",
              "      <td>30</td>\n",
              "    </tr>\n",
              "    <tr>\n",
              "      <th>3</th>\n",
              "      <td>20</td>\n",
              "      <td>10</td>\n",
              "      <td>5</td>\n",
              "      <td>30</td>\n",
              "      <td>20</td>\n",
              "      <td>10</td>\n",
              "      <td>40</td>\n",
              "      <td>30</td>\n",
              "      <td>20</td>\n",
              "    </tr>\n",
              "    <tr>\n",
              "      <th>4</th>\n",
              "      <td>10</td>\n",
              "      <td>20</td>\n",
              "      <td>30</td>\n",
              "      <td>5</td>\n",
              "      <td>10</td>\n",
              "      <td>20</td>\n",
              "      <td>10</td>\n",
              "      <td>20</td>\n",
              "      <td>30</td>\n",
              "    </tr>\n",
              "    <tr>\n",
              "      <th>5</th>\n",
              "      <td>20</td>\n",
              "      <td>10</td>\n",
              "      <td>20</td>\n",
              "      <td>10</td>\n",
              "      <td>5</td>\n",
              "      <td>10</td>\n",
              "      <td>20</td>\n",
              "      <td>10</td>\n",
              "      <td>20</td>\n",
              "    </tr>\n",
              "    <tr>\n",
              "      <th>6</th>\n",
              "      <td>30</td>\n",
              "      <td>20</td>\n",
              "      <td>10</td>\n",
              "      <td>20</td>\n",
              "      <td>10</td>\n",
              "      <td>5</td>\n",
              "      <td>30</td>\n",
              "      <td>20</td>\n",
              "      <td>10</td>\n",
              "    </tr>\n",
              "    <tr>\n",
              "      <th>7</th>\n",
              "      <td>20</td>\n",
              "      <td>30</td>\n",
              "      <td>40</td>\n",
              "      <td>10</td>\n",
              "      <td>20</td>\n",
              "      <td>30</td>\n",
              "      <td>5</td>\n",
              "      <td>10</td>\n",
              "      <td>20</td>\n",
              "    </tr>\n",
              "    <tr>\n",
              "      <th>8</th>\n",
              "      <td>30</td>\n",
              "      <td>20</td>\n",
              "      <td>30</td>\n",
              "      <td>20</td>\n",
              "      <td>10</td>\n",
              "      <td>20</td>\n",
              "      <td>10</td>\n",
              "      <td>5</td>\n",
              "      <td>10</td>\n",
              "    </tr>\n",
              "    <tr>\n",
              "      <th>9</th>\n",
              "      <td>40</td>\n",
              "      <td>30</td>\n",
              "      <td>20</td>\n",
              "      <td>30</td>\n",
              "      <td>20</td>\n",
              "      <td>10</td>\n",
              "      <td>20</td>\n",
              "      <td>10</td>\n",
              "      <td>5</td>\n",
              "    </tr>\n",
              "  </tbody>\n",
              "</table>\n",
              "</div>"
            ],
            "text/plain": [
              "    1   2   3   4   5   6   7   8   9\n",
              "1   5  10  20  10  20  30  20  30  40\n",
              "2  10   5  10  20  10  20  30  20  30\n",
              "3  20  10   5  30  20  10  40  30  20\n",
              "4  10  20  30   5  10  20  10  20  30\n",
              "5  20  10  20  10   5  10  20  10  20\n",
              "6  30  20  10  20  10   5  30  20  10\n",
              "7  20  30  40  10  20  30   5  10  20\n",
              "8  30  20  30  20  10  20  10   5  10\n",
              "9  40  30  20  30  20  10  20  10   5"
            ]
          },
          "metadata": {
            "tags": []
          },
          "execution_count": 223
        }
      ]
    },
    {
      "cell_type": "code",
      "metadata": {
        "id": "vPDxpCR5hXDR",
        "colab_type": "code",
        "outputId": "49052218-afbc-4785-b45d-f194b18da8fc",
        "colab": {
          "base_uri": "https://localhost:8080/",
          "height": 436
        }
      },
      "source": [
        "#Let's start 1st iteration!\n",
        "\n",
        "\n",
        "Nj1=pop(Ejb) #1st pop distribution\n",
        "AjH1=A  #in this time we do not have retail area\n",
        "print(\"Population distribution in 1 iter\")\n",
        "print(Nj1)\n",
        "print(\"compare the proportioned Nj with Nj(max)\")\n",
        "print(ZjH*AjH1-Nj1) #check household density\n",
        "\n",
        "\n",
        "Ejk1=emp(Nj1)# 1st retail employment distribution\n",
        "print(\"Retail employment distribution in 1 iter\")\n",
        "print(Ejk1)\n",
        "print(\"compare the proportioned Ejk with Zk\")\n",
        "print(Ejk1[0]-250,Ejk1[1]-350) #check minimum employment size\n",
        "\n",
        "\n",
        "Ej1=Ejk1[1]+Ejk1[0]+Ejb #in each grid there are employment from basic,retail1 and retail2\n",
        "print(\"the final over all employment: Ejb+Ejk1\")\n",
        "print(Ej1)\n",
        "print(\"compare the employment increment\")\n",
        "print(Ej1-Ejb)\n",
        "print(Ejb) #obviously, there is a huge change in this iter"
      ],
      "execution_count": 224,
      "outputs": [
        {
          "output_type": "stream",
          "text": [
            "Population distribution in 1 iter\n",
            "[5116.27906977 9593.02325581 5116.27906977 3837.20930233 7674.41860465\n",
            " 3837.20930233 5116.27906977 9593.02325581 5116.27906977]\n",
            "compare the proportioned Nj with Nj(max)\n",
            "[14883.72093023  5606.97674419 14883.72093023 16162.79069767\n",
            " 12325.58139535 16162.79069767 14883.72093023  5606.97674419\n",
            " 14883.72093023]\n",
            "Retail employment distribution in 1 iter\n",
            "(array([1095.73879358, 3754.33965131, 1095.73879358, 1156.613171  ,\n",
            "       1497.50968456, 1156.613171  , 1095.73879358, 3754.33965131,\n",
            "       1095.73879358]), array([ 821.80409519, 2332.50093064,  821.80409519,  867.45987825,\n",
            "       1123.13226342,  867.45987825,  821.80409519, 2332.50093064,\n",
            "        821.80409519]))\n",
            "compare the proportioned Ejk with Zk\n",
            "[ 845.73879358 3504.33965131  845.73879358  906.613171   1247.50968456\n",
            "  906.613171    845.73879358 3504.33965131  845.73879358] [ 471.80409519 1982.50093064  471.80409519  517.45987825  773.13226342\n",
            "  517.45987825  471.80409519 1982.50093064  471.80409519]\n",
            "the final over all employment: Ejb+Ejk1\n",
            "[ 1917.54288877 31086.84058195  1917.54288877  2024.07304925\n",
            "  2620.64194798  2024.07304925  1917.54288877 31086.84058195\n",
            "  1917.54288877]\n",
            "compare the employment increment\n",
            "[1917.54288877 6086.84058195 1917.54288877 2024.07304925 2620.64194798\n",
            " 2024.07304925 1917.54288877 6086.84058195 1917.54288877]\n",
            "[    0 25000     0     0     0     0     0 25000     0]\n"
          ],
          "name": "stdout"
        }
      ]
    },
    {
      "cell_type": "code",
      "metadata": {
        "id": "k-wcKmbnjGv9",
        "colab_type": "code",
        "outputId": "af2b0fc4-e0dc-4cdb-e690-da1515e8eea9",
        "colab": {
          "base_uri": "https://localhost:8080/",
          "height": 235
        }
      },
      "source": [
        "#Let's start 2nd iteration!\n",
        "Ajk1=[Ejk1[0]*0.0015,Ejk1[1]*0.0025]\n",
        "print(Ajk1) #make sure the area of k=2 larger than k=1\n",
        "AjH2=A-Ajk1[0]-Ajk1[1] #new household area in 2nd iter\n",
        "print(AjH2) # \n",
        "\n",
        "Nj2=pop(Ej1) #2nd pop distribution\n",
        "print(\"Population distribution in 2 iter\")\n",
        "print(Nj2)\n",
        "print(\"compare the proportioned Nj with Nj(max)\")\n",
        "print(ZjH*AjH2) #check household density"
      ],
      "execution_count": 225,
      "outputs": [
        {
          "output_type": "stream",
          "text": [
            "[array([1.64360819, 5.63150948, 1.64360819, 1.73491976, 2.24626453,\n",
            "       1.73491976, 1.64360819, 5.63150948, 1.64360819]), array([2.05451024, 5.83125233, 2.05451024, 2.1686497 , 2.80783066,\n",
            "       2.1686497 , 2.05451024, 5.83125233, 2.05451024])]\n",
            "[21.30188157  7.5372382  21.30188157 21.09643055 19.94590481 21.09643055\n",
            " 21.30188157  7.5372382  21.30188157]\n",
            "Population distribution in 2 iter\n",
            "[ 7985.82180788 13514.39149195  7985.82180788  6779.36264577\n",
            " 11633.10933501  6779.36264577  7985.82180788 13514.39149195\n",
            "  7985.82180788]\n",
            "compare the proportioned Nj with Nj(max)\n",
            "[17041.50525733  6029.79055716 17041.50525733 16877.1444383\n",
            " 15956.72385169 16877.1444383  17041.50525733  6029.79055716\n",
            " 17041.50525733]\n"
          ],
          "name": "stdout"
        }
      ]
    },
    {
      "cell_type": "code",
      "metadata": {
        "id": "bX3bzVLzjVnx",
        "colab_type": "code",
        "outputId": "56612d28-9173-46bb-ffc8-e7061f843515",
        "colab": {
          "base_uri": "https://localhost:8080/",
          "height": 420
        }
      },
      "source": [
        "Nj2[1]=6029\n",
        "Nj2[7]=6029 #sadjust Nj to Nmax.\n",
        "\n",
        "Ejk2=emp(Nj2)# 2nd retail employment distribution\n",
        "print(\"Retail employment distribution in 2 iter\")\n",
        "print(Ejk2)\n",
        "print(\"compare the proportioned Ejk with Zk\")\n",
        "print(Ejk2[0]-250,Ejk2[1]-350) #check minimum employment size\n",
        "\n",
        "Ej2=Ejk2[1]+Ejk2[0]+Ejb #in each grid there are employment from basic,retail1 and retail2\n",
        "print(\"the final over all employment: Ejb+Ejk1\")\n",
        "print(Ej2)\n",
        "print(\"compare the employment increment\")\n",
        "for i in range(9):\n",
        "  print((Ej2[i]-Ej1[i])/Ej1[i]) #obviously, there is still a large change in this iter"
      ],
      "execution_count": 226,
      "outputs": [
        {
          "output_type": "stream",
          "text": [
            "Retail employment distribution in 2 iter\n",
            "(array([1403.57958873, 4101.26825845, 1403.57958873, 1606.37299381,\n",
            "       1863.4955467 , 1606.37299381, 1403.57958873, 4101.26825845,\n",
            "       1403.57958873]), array([1052.68469155, 2537.33691851, 1052.68469155, 1204.77974536,\n",
            "       1397.62166002, 1204.77974536, 1052.68469155, 2537.33691851,\n",
            "       1052.68469155]))\n",
            "compare the proportioned Ejk with Zk\n",
            "[1153.57958873 3851.26825845 1153.57958873 1356.37299381 1613.4955467\n",
            " 1356.37299381 1153.57958873 3851.26825845 1153.57958873] [ 702.68469155 2187.33691851  702.68469155  854.77974536 1047.62166002\n",
            "  854.77974536  702.68469155 2187.33691851  702.68469155]\n",
            "the final over all employment: Ejb+Ejk1\n",
            "[ 2456.26428027 31638.60517696  2456.26428027  2811.15273917\n",
            "  3261.11720672  2811.15273917  2456.26428027 31638.60517696\n",
            "  2456.26428027]\n",
            "compare the employment increment\n",
            "0.28094359435835153\n",
            "0.01774913708442626\n",
            "0.28094359435835153\n",
            "0.38885933005811996\n",
            "0.24439632405014577\n",
            "0.38885933005811996\n",
            "0.2809435943583513\n",
            "0.01774913708442626\n",
            "0.28094359435835153\n"
          ],
          "name": "stdout"
        }
      ]
    },
    {
      "cell_type": "code",
      "metadata": {
        "id": "G00165k9jpfV",
        "colab_type": "code",
        "outputId": "c437004e-35ad-4d0a-dc96-776c411f9754",
        "colab": {
          "base_uri": "https://localhost:8080/",
          "height": 235
        }
      },
      "source": [
        "#Let's start 3rd iteration!\n",
        "Ajk2=[Ejk2[0]*0.0015,Ejk2[1]*0.0025]\n",
        "print(Ajk2) #make sure the area of k=2 larger than k=1\n",
        "AjH3=A-Ajk2[0]-Ajk2[1] #new household area in 3rd iter\n",
        "print(AjH3) # area of household\n",
        "\n",
        "Nj3=pop(Ej2) #3rd pop distribution\n",
        "print(\"Population distribution in 3 iter\")\n",
        "print(Nj3)\n",
        "print(\"compare the proportioned Nj with Nj(max)\")\n",
        "print(ZjH*AjH3) #check household density"
      ],
      "execution_count": 227,
      "outputs": [
        {
          "output_type": "stream",
          "text": [
            "[array([2.10536938, 6.15190239, 2.10536938, 2.40955949, 2.79524332,\n",
            "       2.40955949, 2.10536938, 6.15190239, 2.10536938]), array([2.63171173, 6.3433423 , 2.63171173, 3.01194936, 3.49405415,\n",
            "       3.01194936, 2.63171173, 6.3433423 , 2.63171173])]\n",
            "[20.26291889  6.50475532 20.26291889 19.57849115 18.71070253 19.57849115\n",
            " 20.26291889  6.50475532 20.26291889]\n",
            "Population distribution in 3 iter\n",
            "[ 8593.75957137 14190.10227978  8593.75957137  7500.1258785\n",
            " 12428.76457405  7500.1258785   8593.75957137 14190.10227978\n",
            "  8593.75957137]\n",
            "compare the proportioned Nj with Nj(max)\n",
            "[16210.33511044  5203.80425285 16210.33511044 15662.7929167\n",
            " 14968.56202392 15662.7929167  16210.33511044  5203.80425285\n",
            " 16210.33511044]\n"
          ],
          "name": "stdout"
        }
      ]
    },
    {
      "cell_type": "code",
      "metadata": {
        "id": "-GnEWHzBjvoo",
        "colab_type": "code",
        "outputId": "bbde5aa2-ffce-46cf-8bdc-6e83e0ca5cbe",
        "colab": {
          "base_uri": "https://localhost:8080/",
          "height": 420
        }
      },
      "source": [
        "Nj3[1]=5203\n",
        "Nj3[7]=5203 #adjust Nj to Nmax\n",
        "\n",
        "Ejk3=emp(Nj3)# 3rd retail employment distribution\n",
        "print(\"Retail employment distribution in 3 iter\")\n",
        "print(Ejk3)\n",
        "print(\"compare the proportioned Ejk with Zk\")\n",
        "print(Ejk3[0]-250,Ejk3[1]-350) #check minimum employment size\n",
        "\n",
        "Ej3=Ejk3[1]+Ejk3[0]+Ejb #in each grid there are employment from basic,retail1 and retail2\n",
        "print(\"the final over all employment: Ejb+Ejk1\")\n",
        "print(Ej3)\n",
        "print(\"compare the employment increment\")\n",
        "for i in range(9):\n",
        "  print((Ej3[i]-Ej2[i])/Ej2[i]) #still need iteration"
      ],
      "execution_count": 228,
      "outputs": [
        {
          "output_type": "stream",
          "text": [
            "Retail employment distribution in 3 iter\n",
            "(array([1469.32555307, 4165.14048455, 1469.32555307, 1705.68652215,\n",
            "       1940.18814487, 1705.68652215, 1469.32555307, 4165.14048455,\n",
            "       1469.32555307]), array([1101.9941648 , 2575.26617721, 1101.9941648 , 1279.26489161,\n",
            "       1455.14110865, 1279.26489161, 1101.9941648 , 2575.26617721,\n",
            "       1101.9941648 ]))\n",
            "compare the proportioned Ejk with Zk\n",
            "[1219.32555307 3915.14048455 1219.32555307 1455.68652215 1690.18814487\n",
            " 1455.68652215 1219.32555307 3915.14048455 1219.32555307] [ 751.9941648  2225.26617721  751.9941648   929.26489161 1105.14110865\n",
            "  929.26489161  751.9941648  2225.26617721  751.9941648 ]\n",
            "the final over all employment: Ejb+Ejk1\n",
            "[ 2571.31971787 31740.40666176  2571.31971787  2984.95141376\n",
            "  3395.32925351  2984.95141376  2571.31971787 31740.40666176\n",
            "  2571.31971787]\n",
            "compare the employment increment\n",
            "0.04684163610511445\n",
            "0.0032176350455003634\n",
            "0.04684163610511445\n",
            "0.061824699940197556\n",
            "0.04115523554947473\n",
            "0.061824699940197715\n",
            "0.046841636105114645\n",
            "0.0032176350455002485\n",
            "0.04684163610511463\n"
          ],
          "name": "stdout"
        }
      ]
    },
    {
      "cell_type": "code",
      "metadata": {
        "id": "U2BDIABdj5rL",
        "colab_type": "code",
        "outputId": "9ec9bafe-0dc2-4ec2-e7c0-b91e760d6114",
        "colab": {
          "base_uri": "https://localhost:8080/",
          "height": 235
        }
      },
      "source": [
        "#Let's start 4th iteration!\n",
        "Ajk3=[Ejk3[0]*0.0015,Ejk3[1]*0.0025]\n",
        "print(Ajk3) #make sure the area of k=2 larger than k=1\n",
        "AjH4=A-Ajk3[0]-Ajk3[1] #new household area in 4th iter\n",
        "print(AjH4) # I found some retail area exceed the limit, so after adjustment, set Ah as 0\n",
        "\n",
        "Nj4=pop(Ej3) #4th pop distribution\n",
        "print(\"Population distribution in 4 iter\")\n",
        "print(Nj4)\n",
        "print(\"compare the proportioned Nj with Nj(max)\")\n",
        "print(ZjH*AjH4) #check household density"
      ],
      "execution_count": 229,
      "outputs": [
        {
          "output_type": "stream",
          "text": [
            "[array([2.20398833, 6.24771073, 2.20398833, 2.55852978, 2.91028222,\n",
            "       2.55852978, 2.20398833, 6.24771073, 2.20398833]), array([2.75498541, 6.43816544, 2.75498541, 3.19816223, 3.63785277,\n",
            "       3.19816223, 2.75498541, 6.43816544, 2.75498541])]\n",
            "[20.04102626  6.31412383 20.04102626 19.24330799 18.45186501 19.24330799\n",
            " 20.04102626  6.31412383 20.04102626]\n",
            "Population distribution in 4 iter\n",
            "[ 8721.32935156 14328.67954876  8721.32935156  7653.51046999\n",
            " 12594.75925988  7653.51046999  8721.32935156 14328.67954876\n",
            "  8721.32935156]\n",
            "compare the proportioned Nj with Nj(max)\n",
            "[16032.82100672  5051.29906411 16032.82100672 15394.6463902\n",
            " 14761.49200886 15394.6463902  16032.82100672  5051.29906411\n",
            " 16032.82100672]\n"
          ],
          "name": "stdout"
        }
      ]
    },
    {
      "cell_type": "code",
      "metadata": {
        "id": "x3Fp-NbOkRP0",
        "colab_type": "code",
        "outputId": "07a85163-a53f-4570-95b1-61d4abd9ea41",
        "colab": {
          "base_uri": "https://localhost:8080/",
          "height": 420
        }
      },
      "source": [
        "Nj4[1]=5051\n",
        "Nj4[7]=5051 #adjust Nj to Nmax.\n",
        "\n",
        "Ejk4=emp(Nj4)# 4th retail employment distribution\n",
        "print(\"Retail employment distribution in 4 iter\")\n",
        "print(Ejk4)\n",
        "print(\"compare the proportioned Ejk with Zk\")\n",
        "print(Ejk4[0]-250,Ejk4[1]-350) #check minimum employment size\n",
        "\n",
        "Ej4=Ejk4[1]+Ejk4[0]+Ejb #in each grid there are employment from basic,retail1 and retail2\n",
        "print(\"the final over all employment: Ejb+Ejk1\")\n",
        "print(Ej4)\n",
        "print(\"compare the employment increment\")\n",
        "for i in range(9):\n",
        "  print((Ej4[i]-Ej3[i])/Ej3[i]) #obviously, there is still a large change in this iter"
      ],
      "execution_count": 230,
      "outputs": [
        {
          "output_type": "stream",
          "text": [
            "Retail employment distribution in 4 iter\n",
            "(array([1483.98260995, 4179.9974302 , 1483.98260995, 1727.2428254 ,\n",
            "       1957.53983465, 1727.2428254 , 1483.98260995, 4179.9974302 ,\n",
            "       1483.98260995]), array([1112.98695746, 2584.3003602 , 1112.98695746, 1295.43211905,\n",
            "       1468.15487599, 1295.43211905, 1112.98695746, 2584.3003602 ,\n",
            "       1112.98695746]))\n",
            "compare the proportioned Ejk with Zk\n",
            "[1233.98260995 3929.9974302  1233.98260995 1477.2428254  1707.53983465\n",
            " 1477.2428254  1233.98260995 3929.9974302  1233.98260995] [ 762.98695746 2234.3003602   762.98695746  945.43211905 1118.15487599\n",
            "  945.43211905  762.98695746 2234.3003602   762.98695746]\n",
            "the final over all employment: Ejb+Ejk1\n",
            "[ 2596.96956741 31764.2977904   2596.96956741  3022.67494445\n",
            "  3425.69471064  3022.67494445  2596.96956741 31764.2977904\n",
            "  2596.96956741]\n",
            "compare the employment increment\n",
            "0.009975363766784408\n",
            "0.0007527039238865763\n",
            "0.009975363766784408\n",
            "0.01263790442979921\n",
            "0.008943302655190272\n",
            "0.012637904429799361\n",
            "0.009975363766784408\n",
            "0.000752703923886691\n",
            "0.009975363766784229\n"
          ],
          "name": "stdout"
        }
      ]
    },
    {
      "cell_type": "code",
      "metadata": {
        "id": "kqDp4EsYkcie",
        "colab_type": "code",
        "outputId": "872719ee-dcf1-40d2-9838-564856c63563",
        "colab": {
          "base_uri": "https://localhost:8080/",
          "height": 235
        }
      },
      "source": [
        "#Let's start 5th iteration!\n",
        "Ajk4=[Ejk4[0]*0.0015,Ejk4[1]*0.0025]\n",
        "print(Ajk4) #make sure the area of k=2 larger than k=1\n",
        "AjH5=A-Ajk4[0]-Ajk4[1] #new household area in 5th iter\n",
        "print(AjH5) #\n",
        "\n",
        "\n",
        "Nj55=pop(Ej4) #5th pop distribution\n",
        "print(\"Population distribution in 5 iter\")\n",
        "print(Nj55)\n",
        "print(\"compare the proportioned Nj with Nj(max)\")\n",
        "print(ZjH*AjH5) #check household density"
      ],
      "execution_count": 231,
      "outputs": [
        {
          "output_type": "stream",
          "text": [
            "[array([2.22597391, 6.26999615, 2.22597391, 2.59086424, 2.93630975,\n",
            "       2.59086424, 2.22597391, 6.26999615, 2.22597391]), array([2.78246739, 6.4607509 , 2.78246739, 3.2385803 , 3.67038719,\n",
            "       3.2385803 , 2.78246739, 6.4607509 , 2.78246739])]\n",
            "[19.99155869  6.26925295 19.99155869 19.17055546 18.39330306 19.17055546\n",
            " 19.99155869  6.26925295 19.99155869]\n",
            "Population distribution in 5 iter\n",
            "[ 8749.83378661 14359.93197539  8749.83378661  7687.56196296\n",
            " 12631.94727186  7687.56196296  8749.83378661 14359.93197539\n",
            "  8749.83378661]\n",
            "compare the proportioned Nj with Nj(max)\n",
            "[15993.24695313  5015.40236335 15993.24695313 15336.44437141\n",
            " 14714.64244644 15336.44437141 15993.24695313  5015.40236335\n",
            " 15993.24695313]\n"
          ],
          "name": "stdout"
        }
      ]
    },
    {
      "cell_type": "code",
      "metadata": {
        "id": "WYj-ZaIXkoaq",
        "colab_type": "code",
        "outputId": "96c8d7e9-285c-4406-bbd1-1cf75abf0390",
        "colab": {
          "base_uri": "https://localhost:8080/",
          "height": 420
        }
      },
      "source": [
        "Nj55[1]=5015\n",
        "Nj55[7]=5015 #adjust Nj to Nmax.\n",
        "\n",
        "Ejk55=emp(Nj55)# 5th retail employment distribution\n",
        "print(\"Retail employment distribution in 4 iter\")\n",
        "print(Ejk55)\n",
        "print(\"compare the proportioned Ejk with Zk\")\n",
        "print(Ejk55[0]-250,Ejk55[1]-350) #check minimum employment size\n",
        "\n",
        "Ej55=Ejk55[1]+Ejk55[0]+Ejb #in each grid there are employment from basic,retail1 and retail2\n",
        "print(\"the final over all employment: Ejb+Ejk1\")\n",
        "print(Ej55)\n",
        "print(\"compare the employment increment\")\n",
        "for i in range(9):\n",
        "  print((Ej55[i]-Ej4[i])/Ej4[i]) #converge to 0.5%"
      ],
      "execution_count": 232,
      "outputs": [
        {
          "output_type": "stream",
          "text": [
            "Retail employment distribution in 4 iter\n",
            "(array([1487.17499372, 4183.13918314, 1487.17499372, 1731.99097857,\n",
            "       1961.29594709, 1731.99097857, 1487.17499372, 4183.13918314,\n",
            "       1487.17499372]), array([1115.38124529, 2586.19791059, 1115.38124529, 1298.99323393,\n",
            "       1470.97196032, 1298.99323393, 1115.38124529, 2586.19791059,\n",
            "       1115.38124529]))\n",
            "compare the proportioned Ejk with Zk\n",
            "[1237.17499372 3933.13918314 1237.17499372 1481.99097857 1711.29594709\n",
            " 1481.99097857 1237.17499372 3933.13918314 1237.17499372] [ 765.38124529 2236.19791059  765.38124529  948.99323393 1120.97196032\n",
            "  948.99323393  765.38124529 2236.19791059  765.38124529]\n",
            "the final over all employment: Ejb+Ejk1\n",
            "[ 2602.55623901 31769.33709372  2602.55623901  3030.98421251\n",
            "  3432.26790741  3030.98421251  2602.55623901 31769.33709372\n",
            "  2602.55623901]\n",
            "compare the employment increment\n",
            "0.0021512272085958727\n",
            "0.00015864677229471033\n",
            "0.0021512272085958727\n",
            "0.002748978373232491\n",
            "0.0019187923379582804\n",
            "0.0027489783732321895\n",
            "0.0021512272085958727\n",
            "0.00015864677229471033\n",
            "0.0021512272085958727\n"
          ],
          "name": "stdout"
        }
      ]
    },
    {
      "cell_type": "markdown",
      "metadata": {
        "id": "Zi_ckSjIYdVo",
        "colab_type": "text"
      },
      "source": [
        "# Some analysis"
      ]
    },
    {
      "cell_type": "markdown",
      "metadata": {
        "id": "-itGzzv6Yv8b",
        "colab_type": "text"
      },
      "source": [
        "To summarize and visualize my model result, I create the table and heatmap to show the final distribution of employment and household in the city"
      ]
    },
    {
      "cell_type": "markdown",
      "metadata": {
        "id": "hnE3TmXbk8sQ",
        "colab_type": "text"
      },
      "source": [
        "## conclusion of first model"
      ]
    },
    {
      "cell_type": "code",
      "metadata": {
        "id": "7DNo6AAEYoQ9",
        "colab_type": "code",
        "colab": {}
      },
      "source": [
        "dic={'household':Nj5,'Employment':Ej5,'Retail 1':Ejk5[0],'Retail 2':Ejk5[1],'X axis':[1,2,3,1,2,3,1,2,3],'Y axis':[1,1,1,2,2,2,3,3,3]}\n",
        "df=pd.DataFrame(dic,index=range(1,10))"
      ],
      "execution_count": 0,
      "outputs": []
    },
    {
      "cell_type": "code",
      "metadata": {
        "id": "1UUFy7x7bt6K",
        "colab_type": "code",
        "outputId": "9025f9c0-3ee1-431e-8008-eacc54518278",
        "colab": {
          "base_uri": "https://localhost:8080/",
          "height": 306
        }
      },
      "source": [
        "df# the overall distribution among areas"
      ],
      "execution_count": 234,
      "outputs": [
        {
          "output_type": "execute_result",
          "data": {
            "text/html": [
              "<div>\n",
              "<style scoped>\n",
              "    .dataframe tbody tr th:only-of-type {\n",
              "        vertical-align: middle;\n",
              "    }\n",
              "\n",
              "    .dataframe tbody tr th {\n",
              "        vertical-align: top;\n",
              "    }\n",
              "\n",
              "    .dataframe thead th {\n",
              "        text-align: right;\n",
              "    }\n",
              "</style>\n",
              "<table border=\"1\" class=\"dataframe\">\n",
              "  <thead>\n",
              "    <tr style=\"text-align: right;\">\n",
              "      <th></th>\n",
              "      <th>household</th>\n",
              "      <th>Employment</th>\n",
              "      <th>Retail 1</th>\n",
              "      <th>Retail 2</th>\n",
              "      <th>X axis</th>\n",
              "      <th>Y axis</th>\n",
              "    </tr>\n",
              "  </thead>\n",
              "  <tbody>\n",
              "    <tr>\n",
              "      <th>1</th>\n",
              "      <td>8211.945932</td>\n",
              "      <td>2112.739533</td>\n",
              "      <td>1207.279733</td>\n",
              "      <td>905.459800</td>\n",
              "      <td>1</td>\n",
              "      <td>1</td>\n",
              "    </tr>\n",
              "    <tr>\n",
              "      <th>2</th>\n",
              "      <td>0.000000</td>\n",
              "      <td>35229.555458</td>\n",
              "      <td>6301.382959</td>\n",
              "      <td>3928.172500</td>\n",
              "      <td>2</td>\n",
              "      <td>1</td>\n",
              "    </tr>\n",
              "    <tr>\n",
              "      <th>3</th>\n",
              "      <td>8211.945932</td>\n",
              "      <td>2112.739533</td>\n",
              "      <td>1207.279733</td>\n",
              "      <td>905.459800</td>\n",
              "      <td>3</td>\n",
              "      <td>1</td>\n",
              "    </tr>\n",
              "    <tr>\n",
              "      <th>4</th>\n",
              "      <td>6302.497335</td>\n",
              "      <td>2645.705606</td>\n",
              "      <td>1511.831775</td>\n",
              "      <td>1133.873831</td>\n",
              "      <td>1</td>\n",
              "      <td>2</td>\n",
              "    </tr>\n",
              "    <tr>\n",
              "      <th>5</th>\n",
              "      <td>13306.829731</td>\n",
              "      <td>3090.933597</td>\n",
              "      <td>1766.247770</td>\n",
              "      <td>1324.685827</td>\n",
              "      <td>2</td>\n",
              "      <td>2</td>\n",
              "    </tr>\n",
              "    <tr>\n",
              "      <th>6</th>\n",
              "      <td>6302.497335</td>\n",
              "      <td>2645.705606</td>\n",
              "      <td>1511.831775</td>\n",
              "      <td>1133.873831</td>\n",
              "      <td>3</td>\n",
              "      <td>2</td>\n",
              "    </tr>\n",
              "    <tr>\n",
              "      <th>7</th>\n",
              "      <td>8211.945932</td>\n",
              "      <td>2112.739533</td>\n",
              "      <td>1207.279733</td>\n",
              "      <td>905.459800</td>\n",
              "      <td>1</td>\n",
              "      <td>3</td>\n",
              "    </tr>\n",
              "    <tr>\n",
              "      <th>8</th>\n",
              "      <td>0.000000</td>\n",
              "      <td>35229.555458</td>\n",
              "      <td>6301.382959</td>\n",
              "      <td>3928.172500</td>\n",
              "      <td>2</td>\n",
              "      <td>3</td>\n",
              "    </tr>\n",
              "    <tr>\n",
              "      <th>9</th>\n",
              "      <td>8211.945932</td>\n",
              "      <td>2112.739533</td>\n",
              "      <td>1207.279733</td>\n",
              "      <td>905.459800</td>\n",
              "      <td>3</td>\n",
              "      <td>3</td>\n",
              "    </tr>\n",
              "  </tbody>\n",
              "</table>\n",
              "</div>"
            ],
            "text/plain": [
              "      household    Employment     Retail 1     Retail 2  X axis  Y axis\n",
              "1   8211.945932   2112.739533  1207.279733   905.459800       1       1\n",
              "2      0.000000  35229.555458  6301.382959  3928.172500       2       1\n",
              "3   8211.945932   2112.739533  1207.279733   905.459800       3       1\n",
              "4   6302.497335   2645.705606  1511.831775  1133.873831       1       2\n",
              "5  13306.829731   3090.933597  1766.247770  1324.685827       2       2\n",
              "6   6302.497335   2645.705606  1511.831775  1133.873831       3       2\n",
              "7   8211.945932   2112.739533  1207.279733   905.459800       1       3\n",
              "8      0.000000  35229.555458  6301.382959  3928.172500       2       3\n",
              "9   8211.945932   2112.739533  1207.279733   905.459800       3       3"
            ]
          },
          "metadata": {
            "tags": []
          },
          "execution_count": 234
        }
      ]
    },
    {
      "cell_type": "code",
      "metadata": {
        "id": "oKEZNqGub3gE",
        "colab_type": "code",
        "colab": {}
      },
      "source": [
        "df_household=np.array(df['household']).reshape(3,3)\n",
        "df_employment=np.array(df['Employment']).reshape(3,3)"
      ],
      "execution_count": 0,
      "outputs": []
    },
    {
      "cell_type": "code",
      "metadata": {
        "id": "Tpyn-_rQazRy",
        "colab_type": "code",
        "colab": {}
      },
      "source": [
        "import seaborn as sn\n",
        "import matplotlib.pyplot as plt"
      ],
      "execution_count": 0,
      "outputs": []
    },
    {
      "cell_type": "code",
      "metadata": {
        "id": "XtAn-op5a2fx",
        "colab_type": "code",
        "outputId": "014007cb-ecd5-4285-a13a-db896a6d99ca",
        "colab": {
          "base_uri": "https://localhost:8080/",
          "height": 649
        }
      },
      "source": [
        "plt.figure(figsize=(13,10))\n",
        "sn.heatmap(df_household,annot=True,annot_kws={'size':25})\n",
        "plt.title('household distribution',fontdict={'fontsize':40})\n"
      ],
      "execution_count": 237,
      "outputs": [
        {
          "output_type": "execute_result",
          "data": {
            "text/plain": [
              "Text(0.5, 1.0, 'household distribution')"
            ]
          },
          "metadata": {
            "tags": []
          },
          "execution_count": 237
        },
        {
          "output_type": "display_data",
          "data": {
            "image/png": "[encoded data removed]",
            "text/plain": [
              "<Figure size 936x720 with 2 Axes>"
            ]
          },
          "metadata": {
            "tags": []
          }
        }
      ]
    },
    {
      "cell_type": "markdown",
      "metadata": {
        "id": "aIPHD8ilfFnn",
        "colab_type": "text"
      },
      "source": [
        "We can see that households are distributed mainly in centrial area, but 2, 8 areas have no residents cause there are large basic employment area."
      ]
    },
    {
      "cell_type": "code",
      "metadata": {
        "id": "EN2acibWgUU6",
        "colab_type": "code",
        "outputId": "4dc8f9c7-5e5a-4256-c0e7-a5f9d3373979",
        "colab": {
          "base_uri": "https://localhost:8080/",
          "height": 649
        }
      },
      "source": [
        "plt.figure(figsize=(13,10))\n",
        "sn.heatmap(df_employment,annot=True,annot_kws={'size':25})\n",
        "plt.title('employment distribution',fontdict={'fontsize':40})"
      ],
      "execution_count": 238,
      "outputs": [
        {
          "output_type": "execute_result",
          "data": {
            "text/plain": [
              "Text(0.5, 1.0, 'employment distribution')"
            ]
          },
          "metadata": {
            "tags": []
          },
          "execution_count": 238
        },
        {
          "output_type": "display_data",
          "data": {
            "image/png": "[encoded data removed]",
            "text/plain": [
              "<Figure size 936x720 with 2 Axes>"
            ]
          },
          "metadata": {
            "tags": []
          }
        }
      ]
    },
    {
      "cell_type": "markdown",
      "metadata": {
        "id": "EVnExJ8igzNW",
        "colab_type": "text"
      },
      "source": [
        "By contrast, 2 and 8 hold the largest employment size, while the corner has fewer."
      ]
    },
    {
      "cell_type": "markdown",
      "metadata": {
        "id": "fNw-VoJOlVUN",
        "colab_type": "text"
      },
      "source": [
        "## conclusion of second model　(with change of parameter)"
      ]
    },
    {
      "cell_type": "code",
      "metadata": {
        "id": "Q-cavFJGoRVW",
        "colab_type": "code",
        "colab": {}
      },
      "source": [
        "dic2={'household':Nj55,'Employment':Ej55,'Retail 1':Ejk55[0],'Retail 2':Ejk55[1],'X axis':[1,2,3,1,2,3,1,2,3],'Y axis':[1,1,1,2,2,2,3,3,3]}\n",
        "df2=pd.DataFrame(dic2,index=range(1,10))"
      ],
      "execution_count": 0,
      "outputs": []
    },
    {
      "cell_type": "code",
      "metadata": {
        "id": "qkt9RoBGocU4",
        "colab_type": "code",
        "colab": {
          "base_uri": "https://localhost:8080/",
          "height": 306
        },
        "outputId": "d5b70d4c-d41b-4725-8198-33eda14a2b50"
      },
      "source": [
        "df2# the overall distribution among areas"
      ],
      "execution_count": 240,
      "outputs": [
        {
          "output_type": "execute_result",
          "data": {
            "text/html": [
              "<div>\n",
              "<style scoped>\n",
              "    .dataframe tbody tr th:only-of-type {\n",
              "        vertical-align: middle;\n",
              "    }\n",
              "\n",
              "    .dataframe tbody tr th {\n",
              "        vertical-align: top;\n",
              "    }\n",
              "\n",
              "    .dataframe thead th {\n",
              "        text-align: right;\n",
              "    }\n",
              "</style>\n",
              "<table border=\"1\" class=\"dataframe\">\n",
              "  <thead>\n",
              "    <tr style=\"text-align: right;\">\n",
              "      <th></th>\n",
              "      <th>household</th>\n",
              "      <th>Employment</th>\n",
              "      <th>Retail 1</th>\n",
              "      <th>Retail 2</th>\n",
              "      <th>X axis</th>\n",
              "      <th>Y axis</th>\n",
              "    </tr>\n",
              "  </thead>\n",
              "  <tbody>\n",
              "    <tr>\n",
              "      <th>1</th>\n",
              "      <td>8749.833787</td>\n",
              "      <td>2602.556239</td>\n",
              "      <td>1487.174994</td>\n",
              "      <td>1115.381245</td>\n",
              "      <td>1</td>\n",
              "      <td>1</td>\n",
              "    </tr>\n",
              "    <tr>\n",
              "      <th>2</th>\n",
              "      <td>5015.000000</td>\n",
              "      <td>31769.337094</td>\n",
              "      <td>4183.139183</td>\n",
              "      <td>2586.197911</td>\n",
              "      <td>2</td>\n",
              "      <td>1</td>\n",
              "    </tr>\n",
              "    <tr>\n",
              "      <th>3</th>\n",
              "      <td>8749.833787</td>\n",
              "      <td>2602.556239</td>\n",
              "      <td>1487.174994</td>\n",
              "      <td>1115.381245</td>\n",
              "      <td>3</td>\n",
              "      <td>1</td>\n",
              "    </tr>\n",
              "    <tr>\n",
              "      <th>4</th>\n",
              "      <td>7687.561963</td>\n",
              "      <td>3030.984213</td>\n",
              "      <td>1731.990979</td>\n",
              "      <td>1298.993234</td>\n",
              "      <td>1</td>\n",
              "      <td>2</td>\n",
              "    </tr>\n",
              "    <tr>\n",
              "      <th>5</th>\n",
              "      <td>12631.947272</td>\n",
              "      <td>3432.267907</td>\n",
              "      <td>1961.295947</td>\n",
              "      <td>1470.971960</td>\n",
              "      <td>2</td>\n",
              "      <td>2</td>\n",
              "    </tr>\n",
              "    <tr>\n",
              "      <th>6</th>\n",
              "      <td>7687.561963</td>\n",
              "      <td>3030.984213</td>\n",
              "      <td>1731.990979</td>\n",
              "      <td>1298.993234</td>\n",
              "      <td>3</td>\n",
              "      <td>2</td>\n",
              "    </tr>\n",
              "    <tr>\n",
              "      <th>7</th>\n",
              "      <td>8749.833787</td>\n",
              "      <td>2602.556239</td>\n",
              "      <td>1487.174994</td>\n",
              "      <td>1115.381245</td>\n",
              "      <td>1</td>\n",
              "      <td>3</td>\n",
              "    </tr>\n",
              "    <tr>\n",
              "      <th>8</th>\n",
              "      <td>5015.000000</td>\n",
              "      <td>31769.337094</td>\n",
              "      <td>4183.139183</td>\n",
              "      <td>2586.197911</td>\n",
              "      <td>2</td>\n",
              "      <td>3</td>\n",
              "    </tr>\n",
              "    <tr>\n",
              "      <th>9</th>\n",
              "      <td>8749.833787</td>\n",
              "      <td>2602.556239</td>\n",
              "      <td>1487.174994</td>\n",
              "      <td>1115.381245</td>\n",
              "      <td>3</td>\n",
              "      <td>3</td>\n",
              "    </tr>\n",
              "  </tbody>\n",
              "</table>\n",
              "</div>"
            ],
            "text/plain": [
              "      household    Employment     Retail 1     Retail 2  X axis  Y axis\n",
              "1   8749.833787   2602.556239  1487.174994  1115.381245       1       1\n",
              "2   5015.000000  31769.337094  4183.139183  2586.197911       2       1\n",
              "3   8749.833787   2602.556239  1487.174994  1115.381245       3       1\n",
              "4   7687.561963   3030.984213  1731.990979  1298.993234       1       2\n",
              "5  12631.947272   3432.267907  1961.295947  1470.971960       2       2\n",
              "6   7687.561963   3030.984213  1731.990979  1298.993234       3       2\n",
              "7   8749.833787   2602.556239  1487.174994  1115.381245       1       3\n",
              "8   5015.000000  31769.337094  4183.139183  2586.197911       2       3\n",
              "9   8749.833787   2602.556239  1487.174994  1115.381245       3       3"
            ]
          },
          "metadata": {
            "tags": []
          },
          "execution_count": 240
        }
      ]
    },
    {
      "cell_type": "code",
      "metadata": {
        "id": "vpGprrShojsh",
        "colab_type": "code",
        "colab": {}
      },
      "source": [
        "df_household2=np.array(df2['household']).reshape(3,3)\n",
        "df_employment2=np.array(df2['Employment']).reshape(3,3)"
      ],
      "execution_count": 0,
      "outputs": []
    },
    {
      "cell_type": "code",
      "metadata": {
        "id": "ex0hUEftom1h",
        "colab_type": "code",
        "colab": {
          "base_uri": "https://localhost:8080/",
          "height": 649
        },
        "outputId": "38b0adf5-cdb7-4b3a-c45a-fdc60fbaa565"
      },
      "source": [
        "plt.figure(figsize=(13,10))\n",
        "sn.heatmap(df_household2,annot=True,annot_kws={'size':25})\n",
        "plt.title('household distribution',fontdict={'fontsize':40})\n"
      ],
      "execution_count": 244,
      "outputs": [
        {
          "output_type": "execute_result",
          "data": {
            "text/plain": [
              "Text(0.5, 1.0, 'household distribution')"
            ]
          },
          "metadata": {
            "tags": []
          },
          "execution_count": 244
        },
        {
          "output_type": "display_data",
          "data": {
            "image/png": "[encoded data removed]",
            "text/plain": [
              "<Figure size 936x720 with 2 Axes>"
            ]
          },
          "metadata": {
            "tags": []
          }
        }
      ]
    },
    {
      "cell_type": "code",
      "metadata": {
        "id": "PyHAlJphootP",
        "colab_type": "code",
        "colab": {
          "base_uri": "https://localhost:8080/",
          "height": 649
        },
        "outputId": "d1eceb22-ccfe-4baf-cd16-d93678fc6d07"
      },
      "source": [
        "plt.figure(figsize=(13,10))\n",
        "sn.heatmap(df_employment2,annot=True,annot_kws={'size':25})\n",
        "plt.title('employment distribution',fontdict={'fontsize':40})"
      ],
      "execution_count": 245,
      "outputs": [
        {
          "output_type": "execute_result",
          "data": {
            "text/plain": [
              "Text(0.5, 1.0, 'employment distribution')"
            ]
          },
          "metadata": {
            "tags": []
          },
          "execution_count": 245
        },
        {
          "output_type": "display_data",
          "data": {
            "image/png": "[encoded data removed]",
            "text/plain": [
              "<Figure size 936x720 with 2 Axes>"
            ]
          },
          "metadata": {
            "tags": []
          }
        }
      ]
    },
    {
      "cell_type": "markdown",
      "metadata": {
        "id": "v9Lw3MNtt9tN",
        "colab_type": "text"
      },
      "source": [
        "# Some conclusions\n",
        "\n",
        "1:\n",
        "In the first model, we got the result after 5 iterations. We can see the basic employment in area #2 and #8 make household tend to live in other places.And the employment of these two places are large--not only the basic employment but also the retail employment\n",
        "\n",
        "The central area has the largest population and second largest employment, while the corner area have some population and employment.\n",
        "\n",
        "2:\n",
        "In the second model, due to the decrease of impedance parameter, people tend to move from place to place.\n",
        "\n",
        "So the #2 and #8 area attract some residents but still fewest. And the total population get larger compare to first model.\n",
        "\n",
        "As for the employment, also easily to compare from the heatplots: we found that #2 and #8 still have the largest employment, but the difference from other grids is smaller. Also, the total employment increase.\n",
        "\n",
        "Overall, it is clear that low impedance between city areas is good for development: city can attract more population and employment, while the difference between grids(places) is smaller."
      ]
    }
  ]
}